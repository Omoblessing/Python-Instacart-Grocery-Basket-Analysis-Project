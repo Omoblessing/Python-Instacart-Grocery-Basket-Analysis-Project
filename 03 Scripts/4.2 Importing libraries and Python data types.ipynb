{
 "cells": [
  {
   "cell_type": "code",
   "execution_count": 1,
   "id": "2f89c8a9-86e4-43db-b61f-f2dd4ed0c061",
   "metadata": {},
   "outputs": [],
   "source": [
    "# Import libraries\n",
    "import pandas as pd\n",
    "import numpy as np\n",
    "import os"
   ]
  },
  {
   "cell_type": "markdown",
   "id": "aa536419-3f3f-4bf5-93aa-1b67f26e6be8",
   "metadata": {},
   "source": [
    "# Data types"
   ]
  },
  {
   "cell_type": "markdown",
   "id": "f9602e8c-98e9-48e4-9125-65fc10b5e023",
   "metadata": {},
   "source": [
    "# Integer"
   ]
  },
  {
   "cell_type": "markdown",
   "id": "dd4b3f20-bbee-46d0-8270-6d675689a035",
   "metadata": {},
   "source": [
    "# Using addition"
   ]
  },
  {
   "cell_type": "code",
   "execution_count": 3,
   "id": "0018312f-6e49-4f86-b607-0e6a23010f6d",
   "metadata": {},
   "outputs": [],
   "source": [
    "a = 20"
   ]
  },
  {
   "cell_type": "code",
   "execution_count": 4,
   "id": "96c22ce5-1a52-469a-aa5f-bb4af378b4e5",
   "metadata": {},
   "outputs": [],
   "source": [
    "b = 30"
   ]
  },
  {
   "cell_type": "code",
   "execution_count": 5,
   "id": "3b910d66-1a5c-4954-9beb-48b4a51d1019",
   "metadata": {},
   "outputs": [],
   "source": [
    "c = 50"
   ]
  },
  {
   "cell_type": "code",
   "execution_count": 6,
   "id": "6bead2c2-f51e-48c6-8793-586bba0ba89e",
   "metadata": {},
   "outputs": [],
   "source": [
    "answer = a + b + c"
   ]
  },
  {
   "cell_type": "code",
   "execution_count": 7,
   "id": "45f261fd-3aab-4761-be10-db25f8e8eb03",
   "metadata": {},
   "outputs": [
    {
     "name": "stdout",
     "output_type": "stream",
     "text": [
      "100\n"
     ]
    }
   ],
   "source": [
    "print (answer)"
   ]
  },
  {
   "cell_type": "code",
   "execution_count": null,
   "id": "b961b52a-29ab-4f96-b82c-0aa0c688e749",
   "metadata": {},
   "outputs": [],
   "source": []
  },
  {
   "cell_type": "markdown",
   "id": "426d55b3-6458-4c0f-94c0-5af5cec9b100",
   "metadata": {},
   "source": [
    "# Using a more complex addition or subtraction combination"
   ]
  },
  {
   "cell_type": "code",
   "execution_count": 13,
   "id": "db44bed5-9253-4779-be7c-0f2100396acc",
   "metadata": {},
   "outputs": [],
   "source": [
    "p = 300"
   ]
  },
  {
   "cell_type": "code",
   "execution_count": 14,
   "id": "fafda6ad-e325-4515-a625-6f20b7a5ec62",
   "metadata": {},
   "outputs": [],
   "source": [
    "q = 250"
   ]
  },
  {
   "cell_type": "code",
   "execution_count": 15,
   "id": "b05b164d-bb37-4f79-b6f7-ba7edee4b627",
   "metadata": {},
   "outputs": [],
   "source": [
    "r = 200"
   ]
  },
  {
   "cell_type": "code",
   "execution_count": 16,
   "id": "039505f6-6eea-49a7-8e6d-105f13fddb46",
   "metadata": {},
   "outputs": [],
   "source": [
    "s = 150"
   ]
  },
  {
   "cell_type": "code",
   "execution_count": 17,
   "id": "b96a8809-fd52-44dd-9d20-83f91e12495a",
   "metadata": {
    "scrolled": true
   },
   "outputs": [],
   "source": [
    "answer = p - q + r - s"
   ]
  },
  {
   "cell_type": "code",
   "execution_count": 18,
   "id": "ff31d67e-29a4-4314-a9b3-9452e6b98a66",
   "metadata": {},
   "outputs": [
    {
     "name": "stdout",
     "output_type": "stream",
     "text": [
      "100\n"
     ]
    }
   ],
   "source": [
    "print (answer)"
   ]
  },
  {
   "cell_type": "code",
   "execution_count": null,
   "id": "e70c160e-cb3a-485b-8afc-31b2b8888d5a",
   "metadata": {},
   "outputs": [],
   "source": []
  },
  {
   "cell_type": "markdown",
   "id": "e27c5aef-7870-43a3-8061-fbf4caa06260",
   "metadata": {},
   "source": [
    "# Adding or subtracting numeric values"
   ]
  },
  {
   "cell_type": "code",
   "execution_count": 19,
   "id": "138c1ce0-a198-4be8-b053-92ddc7cc717d",
   "metadata": {},
   "outputs": [],
   "source": [
    "c = 200"
   ]
  },
  {
   "cell_type": "code",
   "execution_count": 20,
   "id": "ca70f250-4f78-4e6a-bee7-786f66b97c61",
   "metadata": {},
   "outputs": [],
   "source": [
    "d = 150"
   ]
  },
  {
   "cell_type": "code",
   "execution_count": 21,
   "id": "871d187f-1828-45d3-aa07-151bd65ab3e1",
   "metadata": {},
   "outputs": [],
   "source": [
    "e = 50"
   ]
  },
  {
   "cell_type": "code",
   "execution_count": 22,
   "id": "2fd22bee-3bef-46fd-8f42-4237cb6c5123",
   "metadata": {},
   "outputs": [],
   "source": [
    "answer = c - d + e"
   ]
  },
  {
   "cell_type": "code",
   "execution_count": 23,
   "id": "5f7739b7-f94b-4080-8e23-16122406e9c9",
   "metadata": {},
   "outputs": [
    {
     "name": "stdout",
     "output_type": "stream",
     "text": [
      "100\n"
     ]
    }
   ],
   "source": [
    "print (answer)"
   ]
  },
  {
   "cell_type": "code",
   "execution_count": null,
   "id": "f8f3cb4e-ecc1-4577-8b7d-8da42f3782e5",
   "metadata": {},
   "outputs": [],
   "source": []
  },
  {
   "cell_type": "markdown",
   "id": "03ae5191-7628-4918-85d5-dd746583e885",
   "metadata": {},
   "source": [
    "# Defining two floating points variables"
   ]
  },
  {
   "cell_type": "code",
   "execution_count": 24,
   "id": "d29d807e-85de-4615-9384-84257424fc20",
   "metadata": {},
   "outputs": [],
   "source": [
    "g = 29.3344"
   ]
  },
  {
   "cell_type": "code",
   "execution_count": 25,
   "id": "12ed70e2-2cb9-446a-89bc-4606af03d0c8",
   "metadata": {},
   "outputs": [],
   "source": [
    "h = 2.5546"
   ]
  },
  {
   "cell_type": "code",
   "execution_count": 26,
   "id": "f3bc03bb-3337-4a49-b35d-047700b11c3e",
   "metadata": {},
   "outputs": [],
   "source": [
    "answer = g/h"
   ]
  },
  {
   "cell_type": "code",
   "execution_count": 27,
   "id": "a5483598-22d6-42bf-b1a0-59b0cf4ea1da",
   "metadata": {},
   "outputs": [
    {
     "name": "stdout",
     "output_type": "stream",
     "text": [
      "11.482971893838565\n"
     ]
    }
   ],
   "source": [
    "print (answer)"
   ]
  },
  {
   "cell_type": "code",
   "execution_count": null,
   "id": "3eaf7941-bef9-4300-9bb5-1c9edea1b96e",
   "metadata": {},
   "outputs": [],
   "source": []
  },
  {
   "cell_type": "markdown",
   "id": "0ae4cb33-6fd4-43e2-9b1e-74b832b7285e",
   "metadata": {},
   "source": [
    "# Defining two floating points variables"
   ]
  },
  {
   "cell_type": "code",
   "execution_count": 28,
   "id": "89d95ad9-4875-4e0d-a040-bce6812b186c",
   "metadata": {},
   "outputs": [],
   "source": [
    "l = 198.4566"
   ]
  },
  {
   "cell_type": "code",
   "execution_count": 29,
   "id": "93703166-a444-4348-9e4b-9d3258117b50",
   "metadata": {},
   "outputs": [],
   "source": [
    "m = 25.9866"
   ]
  },
  {
   "cell_type": "code",
   "execution_count": 30,
   "id": "ae349184-ff6d-4db7-9bd7-f39694095e1a",
   "metadata": {},
   "outputs": [],
   "source": [
    "answer = l/m"
   ]
  },
  {
   "cell_type": "code",
   "execution_count": 31,
   "id": "4e32e0d9-4ed8-4572-852f-10cf6e6c0a2b",
   "metadata": {},
   "outputs": [
    {
     "name": "stdout",
     "output_type": "stream",
     "text": [
      "7.636882085382467\n"
     ]
    }
   ],
   "source": [
    "print (answer)"
   ]
  },
  {
   "cell_type": "code",
   "execution_count": null,
   "id": "5db2d971-a81b-44ef-abd8-800b0ccba73a",
   "metadata": {},
   "outputs": [],
   "source": []
  },
  {
   "cell_type": "markdown",
   "id": "159ecc5b-ec21-490a-b517-1ac869faea5e",
   "metadata": {},
   "source": [
    "# Short word made of seperate strings"
   ]
  },
  {
   "cell_type": "code",
   "execution_count": 32,
   "id": "fe646216-c3af-499b-850a-66c887628c96",
   "metadata": {},
   "outputs": [],
   "source": [
    "e = 'Blessing,'"
   ]
  },
  {
   "cell_type": "code",
   "execution_count": 33,
   "id": "42a14281-03da-46d6-ad97-a93878c0e70d",
   "metadata": {},
   "outputs": [],
   "source": [
    "f = 'Osimahon'"
   ]
  },
  {
   "cell_type": "code",
   "execution_count": 34,
   "id": "b6ac68d3-3373-483c-abbe-4110702cd5fa",
   "metadata": {},
   "outputs": [
    {
     "data": {
      "text/plain": [
       "'Blessing,Osimahon'"
      ]
     },
     "execution_count": 34,
     "metadata": {},
     "output_type": "execute_result"
    }
   ],
   "source": [
    "e + f"
   ]
  },
  {
   "cell_type": "code",
   "execution_count": null,
   "id": "f951c4d9-3be3-4169-8f1f-ec94d5ddcf89",
   "metadata": {},
   "outputs": [],
   "source": []
  },
  {
   "cell_type": "markdown",
   "id": "0f038920-8ff6-4ba7-8530-9ea25396ec38",
   "metadata": {},
   "source": [
    "# Include a command that makes a string appear 100 times "
   ]
  },
  {
   "cell_type": "code",
   "execution_count": 36,
   "id": "9f5b3616-6a1f-4876-8e61-90a81bfd4898",
   "metadata": {},
   "outputs": [],
   "source": [
    "z = 'Blessing'"
   ]
  },
  {
   "cell_type": "code",
   "execution_count": 37,
   "id": "1d205ae4-0467-41f9-bf48-a352a53e49f5",
   "metadata": {},
   "outputs": [
    {
     "data": {
      "text/plain": [
       "'BlessingBlessingBlessingBlessingBlessingBlessingBlessingBlessingBlessingBlessingBlessingBlessingBlessingBlessingBlessingBlessingBlessingBlessingBlessingBlessingBlessingBlessingBlessingBlessingBlessingBlessingBlessingBlessingBlessingBlessingBlessingBlessingBlessingBlessingBlessingBlessingBlessingBlessingBlessingBlessingBlessingBlessingBlessingBlessingBlessingBlessingBlessingBlessingBlessingBlessingBlessingBlessingBlessingBlessingBlessingBlessingBlessingBlessingBlessingBlessingBlessingBlessingBlessingBlessingBlessingBlessingBlessingBlessingBlessingBlessingBlessingBlessingBlessingBlessingBlessingBlessingBlessingBlessingBlessingBlessingBlessingBlessingBlessingBlessingBlessingBlessingBlessingBlessingBlessingBlessingBlessingBlessingBlessingBlessingBlessingBlessingBlessingBlessingBlessingBlessing'"
      ]
     },
     "execution_count": 37,
     "metadata": {},
     "output_type": "execute_result"
    }
   ],
   "source": [
    "z * 100"
   ]
  }
 ],
 "metadata": {
  "kernelspec": {
   "display_name": "Python 3 (ipykernel)",
   "language": "python",
   "name": "python3"
  },
  "language_info": {
   "codemirror_mode": {
    "name": "ipython",
    "version": 3
   },
   "file_extension": ".py",
   "mimetype": "text/x-python",
   "name": "python",
   "nbconvert_exporter": "python",
   "pygments_lexer": "ipython3",
   "version": "3.11.7"
  }
 },
 "nbformat": 4,
 "nbformat_minor": 5
}
